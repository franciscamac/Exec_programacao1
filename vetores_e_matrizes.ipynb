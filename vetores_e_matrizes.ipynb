{
  "nbformat": 4,
  "nbformat_minor": 0,
  "metadata": {
    "colab": {
      "provenance": [],
      "authorship_tag": "ABX9TyP/bbI9KQJvdIaoKw3eeyrV",
      "include_colab_link": true
    },
    "kernelspec": {
      "name": "python3",
      "display_name": "Python 3"
    },
    "language_info": {
      "name": "python"
    }
  },
  "cells": [
    {
      "cell_type": "markdown",
      "metadata": {
        "id": "view-in-github",
        "colab_type": "text"
      },
      "source": [
        "<a href=\"https://colab.research.google.com/github/franciscamac/Exec_programacao1/blob/main/vetores_e_matrizes.ipynb\" target=\"_parent\"><img src=\"https://colab.research.google.com/assets/colab-badge.svg\" alt=\"Open In Colab\"/></a>"
      ]
    },
    {
      "cell_type": "markdown",
      "source": [
        "Faça um programa que possua um vetor denominado A que armazene 6 números inteiros. O programa deve executar os seguintes passos:\n",
        "(a) Atribua os seguintes valores a esse vetor: 1, 0, 5, -2, -5, 7.\n",
        "(b) Armazene em uma variável inteira (simples) a soma entre os valores das posições A[0], A[1] e A[5] do vetor e mostre na tela esta soma.\n",
        "(c) Modifique o vetor na posição 4, atribuindo a esta posição o valor 100.\n",
        "(d) Mostre na tela cada valor do vetor A, um em cada linha."
      ],
      "metadata": {
        "id": "UHbp79yya6qp"
      }
    },
    {
      "cell_type": "code",
      "execution_count": null,
      "metadata": {
        "id": "AX1hJFh7agi6"
      },
      "outputs": [],
      "source": [
        "a = [1,0,5,-2,-5,7]\n",
        "print(\"-=-=-=-=-=-=-=-=-=-=-=-=-=-=-=-=-=-\")\n",
        "print(\"Soma --> \",a[0] + a[1] + a[5])\n",
        "print(\"-=-=-=-=-=-=-=-=-=-=-=-=-=-=-=-=-=-\")\n",
        "a[4] = 100\n",
        "for x in a:\n",
        "    print(\"valor dos vetores alterados ----> \",x)"
      ]
    },
    {
      "cell_type": "code",
      "source": [
        "valor = []\n",
        "quad = []\n",
        "print(\"-=-=-=-=-=-=-=-=-=-=-=-=-=\")\n",
        "for i in range(10):\n",
        "  valor.append(float(input(\"Informe um valor: \")))\n",
        "  quad.append(valor[i]*valor[i])\n",
        "\n",
        "print(\"-=-=-=-=-=-=-=-=-=-=-=-=-=\")\n",
        "print(f\"Valores informados ---> {valor}\")\n",
        "print(f\"Quadrado dos valores informados ---> {quad}\")"
      ],
      "metadata": {
        "id": "mSFjvUBLJxLd"
      },
      "execution_count": null,
      "outputs": []
    },
    {
      "cell_type": "code",
      "source": [
        "vetor = []\n",
        "for i in range(8):\n",
        "  vetor.append(float(input(\"Informe o valor: \")))\n",
        "print(\"-=-=-=-=-=-=-=-=-=-=-=-=-=-=-\")\n",
        "x = int(input(\"Informe o valor de X: \"))\n",
        "y=int(input(\"Informe o valor de Y:\"))\n",
        "print(\"-=-=-=-=-=-=-=-=-=-=-=-=-=-=-\")\n",
        "soma = vetor[x] + vetor[y]\n",
        "print(f\"Soma dos valores {x} e {y} ---> {soma}\")\n",
        "\n",
        "\n"
      ],
      "metadata": {
        "colab": {
          "base_uri": "https://localhost:8080/"
        },
        "id": "-T2iRJeFOpXE",
        "outputId": "5f641c79-c1ea-4b9a-cef0-5f5ccc69d751"
      },
      "execution_count": null,
      "outputs": [
        {
          "output_type": "stream",
          "name": "stdout",
          "text": [
            "Informe o valor: 1\n",
            "Informe o valor: 2\n",
            "Informe o valor: 3\n",
            "Informe o valor: 4\n",
            "Informe o valor: 5\n",
            "Informe o valor: 6\n",
            "Informe o valor: 7\n",
            "Informe o valor: 8\n",
            "-=-=-=-=-=-=-=-=-=-=-=-=-=-=-\n",
            "Informe o valor de X: 4\n",
            "Informe o valor de Y:6\n",
            "-=-=-=-=-=-=-=-=-=-=-=-=-=-=-\n",
            "Soma dos valores 4 e 6 ---> 12.0\n"
          ]
        }
      ]
    },
    {
      "cell_type": "code",
      "source": [
        "vetor = []\n",
        "for i in range(6):\n",
        "  vetor.append(int(input(\"Informe um numero: \")))\n",
        "print(\"-=-=-=-=-=-=-=-=-=-=-=-=-=-=-\")\n",
        "\n",
        "for i in reversed(vetor):\n",
        "  print(i)"
      ],
      "metadata": {
        "colab": {
          "base_uri": "https://localhost:8080/"
        },
        "id": "oXNzTDZESq6C",
        "outputId": "795a0661-983f-403b-8203-1c674930f632"
      },
      "execution_count": null,
      "outputs": [
        {
          "output_type": "stream",
          "name": "stdout",
          "text": [
            "Informe um numero: 1\n",
            "Informe um numero: 2\n",
            "Informe um numero: 3\n",
            "Informe um numero: 4\n",
            "Informe um numero: 5\n",
            "Informe um numero: 6\n",
            "-=-=-=-=-=-=-=-=-=-=-=-=-=-=-\n",
            "6\n",
            "5\n",
            "4\n",
            "3\n",
            "2\n",
            "1\n"
          ]
        }
      ]
    }
  ]
}