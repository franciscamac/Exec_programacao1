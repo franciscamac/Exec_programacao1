{
  "nbformat": 4,
  "nbformat_minor": 0,
  "metadata": {
    "colab": {
      "provenance": [],
      "authorship_tag": "ABX9TyP4wTr6b7QAyK1Ty2NM6NQo",
      "include_colab_link": true
    },
    "kernelspec": {
      "name": "python3",
      "display_name": "Python 3"
    },
    "language_info": {
      "name": "python"
    }
  },
  "cells": [
    {
      "cell_type": "markdown",
      "metadata": {
        "id": "view-in-github",
        "colab_type": "text"
      },
      "source": [
        "<a href=\"https://colab.research.google.com/github/franciscamac/Exec_programacao1/blob/main/lista2.ipynb\" target=\"_parent\"><img src=\"https://colab.research.google.com/assets/colab-badge.svg\" alt=\"Open In Colab\"/></a>"
      ]
    },
    {
      "cell_type": "markdown",
      "source": [
        "Comando for\n",
        "for <item> in <conjunto_de_itens>:\n",
        "  <bloco_de_codigo>\n",
        "\n",
        "\n",
        "\n"
      ],
      "metadata": {
        "id": "6fqzOkwn0aG6"
      }
    },
    {
      "cell_type": "code",
      "execution_count": null,
      "metadata": {
        "colab": {
          "base_uri": "https://localhost:8080/"
        },
        "id": "lO9zBW8bxmOk",
        "outputId": "4e948b1f-f973-47c2-834b-45ca45d8c563"
      },
      "outputs": [
        {
          "output_type": "stream",
          "name": "stdout",
          "text": [
            "6\n",
            "7\n",
            "2\n",
            "12\n"
          ]
        }
      ],
      "source": [
        "for i in [6,7,2,12]:\n",
        "  print(i)"
      ]
    },
    {
      "cell_type": "markdown",
      "source": [
        "range() = gera um numero a cada interação"
      ],
      "metadata": {
        "id": "iaGImp9K0S0L"
      }
    },
    {
      "cell_type": "code",
      "source": [
        "for i in range(8):\n",
        "  print(i)"
      ],
      "metadata": {
        "colab": {
          "base_uri": "https://localhost:8080/"
        },
        "id": "WN5WWwE10JZe",
        "outputId": "e6c42a4e-ac3a-474d-e397-c8586ed91c12"
      },
      "execution_count": null,
      "outputs": [
        {
          "output_type": "stream",
          "name": "stdout",
          "text": [
            "0\n",
            "1\n",
            "2\n",
            "3\n",
            "4\n",
            "5\n",
            "6\n",
            "7\n"
          ]
        }
      ]
    },
    {
      "cell_type": "code",
      "source": [
        "n = int(input(\"Informe um numero: \"))\n",
        "for i in range(10):\n",
        "  produto = i*n\n",
        "  print(n,\"x\" , i, \"=\",produto)"
      ],
      "metadata": {
        "colab": {
          "base_uri": "https://localhost:8080/"
        },
        "id": "VXVnM7mo0kM7",
        "outputId": "6660928a-4245-4317-895e-c832d6edf582"
      },
      "execution_count": null,
      "outputs": [
        {
          "output_type": "stream",
          "name": "stdout",
          "text": [
            "Informe um numero: 8\n",
            "8 x 0 = 0\n",
            "8 x 1 = 8\n",
            "8 x 2 = 16\n",
            "8 x 3 = 24\n",
            "8 x 4 = 32\n",
            "8 x 5 = 40\n",
            "8 x 6 = 48\n",
            "8 x 7 = 56\n",
            "8 x 8 = 64\n",
            "8 x 9 = 72\n"
          ]
        }
      ]
    },
    {
      "cell_type": "code",
      "source": [
        "print(\"::::Serie de Fibonacci:::::\")\n",
        "n = int(input(\"Informe o valor n: \"))\n",
        "anterior = 0\n",
        "proximo = 1\n",
        "for i in range(n):\n",
        "      print(proximo)\n",
        "      proximo = proximo +anterior\n",
        "      anterior = proximo -anterior\n"
      ],
      "metadata": {
        "colab": {
          "base_uri": "https://localhost:8080/"
        },
        "id": "r5QCS_EE3cMV",
        "outputId": "e8adc96c-e470-425d-f1c4-9bea090fdbfc"
      },
      "execution_count": null,
      "outputs": [
        {
          "output_type": "stream",
          "name": "stdout",
          "text": [
            "::::Serie de Fibonacci:::::\n",
            "Informe o valor n: 20\n",
            "1\n",
            "1\n",
            "2\n",
            "3\n",
            "5\n",
            "8\n",
            "13\n",
            "21\n",
            "34\n",
            "55\n",
            "89\n",
            "144\n",
            "233\n",
            "377\n",
            "610\n",
            "987\n",
            "1597\n",
            "2584\n",
            "4181\n",
            "6765\n"
          ]
        }
      ]
    },
    {
      "cell_type": "code",
      "source": [
        "empates = 1\n",
        "vitorias = 1\n",
        "while True:\n",
        "  print(\"JOGO - PEDRA | PAPEL | TESOURA \\n\")\n",
        "  nome = input(\"Qual seu nome? \\n\")\n",
        "  if nome == \"sair\":\n",
        "    break\n",
        "\n",
        "  rodadas = int(input(\"Informe a quantidade de rodadas \\n\"))\n",
        "\n",
        "  for i in range(rodadas):\n",
        "    menu = \"\"\"\n",
        "                  JOGO\n",
        "            DIGITE UMA OPÇÃO\n",
        "          (^-^)  (°-^)  (~_~)\n",
        "        1 - PEDRA\n",
        "        2 - PAPEL\n",
        "        3 - TESOURA\n",
        "        4 - SAIR\n",
        "\n",
        "\n",
        "    >>>>>>>>>>>>\n",
        "    \"\"\"\n",
        "    print(menu)\n",
        "    jogada = int(input(\"SUA JOGADA: \"))\n",
        "\n",
        "    comp = random.randint(1,3)\n",
        "    if jogada == comp:\n",
        "      print(\"::::::: EMPATE (~_~)::::::\")\n",
        "      empates +=1\n",
        "\n",
        "\n",
        "\n"
      ],
      "metadata": {
        "colab": {
          "base_uri": "https://localhost:8080/",
          "height": 574
        },
        "id": "80zZ9aHlHoo8",
        "outputId": "df6c1c6d-9f52-48f5-a4a3-957ede03bd02"
      },
      "execution_count": null,
      "outputs": [
        {
          "name": "stdout",
          "output_type": "stream",
          "text": [
            "JOGO - PEDRA | PAPEL | TESOURA \n",
            "\n",
            "Qual seu nome? \n",
            "Fran\n",
            "Informe a quantidade de rodadas \n",
            "2\n",
            "\n",
            "                  JOGO\n",
            "            DIGITE UMA OPÇÃO\n",
            "          (^-^)  (°-^)  (~_~) \n",
            "        1 - PEDRA \n",
            "        2 - PAPEL\n",
            "        3 - TESOURA\n",
            "        4 - SAIR\n",
            "\n",
            "\n",
            "    >>>>>>>>>>>>\n",
            "    \n",
            "SUA JOGADA: 2\n"
          ]
        },
        {
          "output_type": "error",
          "ename": "NameError",
          "evalue": "ignored",
          "traceback": [
            "\u001b[0;31m---------------------------------------------------------------------------\u001b[0m",
            "\u001b[0;31mNameError\u001b[0m                                 Traceback (most recent call last)",
            "\u001b[0;32m<ipython-input-62-d4403c066d51>\u001b[0m in \u001b[0;36m<cell line: 3>\u001b[0;34m()\u001b[0m\n\u001b[1;32m     25\u001b[0m     \u001b[0mjogada\u001b[0m \u001b[0;34m=\u001b[0m \u001b[0mint\u001b[0m\u001b[0;34m(\u001b[0m\u001b[0minput\u001b[0m\u001b[0;34m(\u001b[0m\u001b[0;34m\"SUA JOGADA: \"\u001b[0m\u001b[0;34m)\u001b[0m\u001b[0;34m)\u001b[0m\u001b[0;34m\u001b[0m\u001b[0;34m\u001b[0m\u001b[0m\n\u001b[1;32m     26\u001b[0m \u001b[0;34m\u001b[0m\u001b[0m\n\u001b[0;32m---> 27\u001b[0;31m     \u001b[0mcomp\u001b[0m \u001b[0;34m=\u001b[0m \u001b[0mrandom\u001b[0m\u001b[0;34m.\u001b[0m\u001b[0mrandint\u001b[0m\u001b[0;34m(\u001b[0m\u001b[0;36m1\u001b[0m\u001b[0;34m,\u001b[0m\u001b[0;36m3\u001b[0m\u001b[0;34m)\u001b[0m\u001b[0;34m\u001b[0m\u001b[0;34m\u001b[0m\u001b[0m\n\u001b[0m\u001b[1;32m     28\u001b[0m     \u001b[0;32mif\u001b[0m \u001b[0mjogada\u001b[0m \u001b[0;34m==\u001b[0m \u001b[0mcomp\u001b[0m\u001b[0;34m:\u001b[0m\u001b[0;34m\u001b[0m\u001b[0;34m\u001b[0m\u001b[0m\n\u001b[1;32m     29\u001b[0m       \u001b[0mprint\u001b[0m\u001b[0;34m(\u001b[0m\u001b[0;34m\"::::::: EMPATE (~_~)::::::\"\u001b[0m\u001b[0;34m)\u001b[0m\u001b[0;34m\u001b[0m\u001b[0;34m\u001b[0m\u001b[0m\n",
            "\u001b[0;31mNameError\u001b[0m: name 'random' is not defined"
          ]
        }
      ]
    },
    {
      "cell_type": "markdown",
      "source": [],
      "metadata": {
        "id": "cBoWnvzfyv3B"
      }
    }
  ]
}