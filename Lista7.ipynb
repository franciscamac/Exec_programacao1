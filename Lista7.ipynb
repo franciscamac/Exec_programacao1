{
  "nbformat": 4,
  "nbformat_minor": 0,
  "metadata": {
    "colab": {
      "provenance": [],
      "authorship_tag": "ABX9TyPJwaofb0GSp0l9rIDCWr7Y",
      "include_colab_link": true
    },
    "kernelspec": {
      "name": "python3",
      "display_name": "Python 3"
    },
    "language_info": {
      "name": "python"
    }
  },
  "cells": [
    {
      "cell_type": "markdown",
      "metadata": {
        "id": "view-in-github",
        "colab_type": "text"
      },
      "source": [
        "<a href=\"https://colab.research.google.com/github/franciscamac/Exec_programacao1/blob/main/Lista7.ipynb\" target=\"_parent\"><img src=\"https://colab.research.google.com/assets/colab-badge.svg\" alt=\"Open In Colab\"/></a>"
      ]
    },
    {
      "cell_type": "code",
      "execution_count": null,
      "metadata": {
        "colab": {
          "base_uri": "https://localhost:8080/"
        },
        "id": "oFRI_R-hLxkw",
        "outputId": "c0d00970-4c6d-4766-9d4c-7845244e0529"
      },
      "outputs": [
        {
          "output_type": "stream",
          "name": "stdout",
          "text": [
            "10\n",
            "10\n",
            "10\n",
            "10\n",
            "10\n",
            "10\n",
            "6 valores positivos\n",
            "0 valores negativos\n",
            "A média de todos os numeros é  1.6666666666666667\n"
          ]
        }
      ],
      "source": [
        "positivos = 0\n",
        "negativos = 0\n",
        "for _ in range(6):\n",
        "    n = float(input())\n",
        "    if n > 0:\n",
        "        positivos += 1\n",
        "    elif n < 0:\n",
        "        negativos +=1\n",
        "\n",
        "print('{} valores positivos'.format(positivos))\n",
        "print('{} valores negativos'.format(negativos))\n",
        "print(\"A média de todos os numeros é \", (negativos+positivos)/6)"
      ]
    },
    {
      "cell_type": "markdown",
      "source": [
        "1. Leia 6 valores. Em seguida, mostre quantos destes valores digitados foram positivos e quantos\n",
        "foram negativos. Mostre também, a média de todos os valores positivos digitados."
      ],
      "metadata": {
        "id": "qRFD_qdxMpcS"
      }
    },
    {
      "cell_type": "code",
      "source": [
        "x = float(input(\"Informe o valor de x: \\n\"))\n",
        "y = float(input(\"Informe o valor de y:  \\n\"))\n",
        "\n",
        "if x == 0 and y ==0:\n",
        "  print(\"Opção invalida!\")\n",
        "else:\n",
        "    if  x > 0 and y>0:\n",
        "      print(\"Primeiro Quadrante! \\n\")\n",
        "    elif x < 0 and y> 0:\n",
        "      print(\"Segundo Quadrante \\n\")\n",
        "    elif x < 0 and y < 0:\n",
        "      print(\"Terceiro Quadrante \\n\")\n",
        "    else:\n",
        "      print(\"Quarto Quadrante \\n\")\n",
        "print(\"Fim da execução\")"
      ],
      "metadata": {
        "colab": {
          "base_uri": "https://localhost:8080/"
        },
        "id": "IaQiLrPCQvDE",
        "outputId": "47d2ead6-9e9b-49f0-debc-bcbcc7d5bb3b"
      },
      "execution_count": null,
      "outputs": [
        {
          "output_type": "stream",
          "name": "stdout",
          "text": [
            "Informe o valor de x: \n",
            "0\n",
            "Informe o valor de y:  \n",
            "0\n",
            "Opção invalida!\n",
            "Fim da execução\n"
          ]
        }
      ]
    },
    {
      "cell_type": "markdown",
      "source": [
        "2. Escreva um algoritmo, onde o usuário informa uma coordenada (X, Y ) e o programa indica qual\n",
        "quadrante o ponto pertence, ou se este ponto está sobre um dos eixos cartesiano (x,y)"
      ],
      "metadata": {
        "id": "w5F3U5fQQw1A"
      }
    },
    {
      "cell_type": "code",
      "source": [
        "valor_a = float(input(\"Informe o primeiro valor: \\n\"))\n",
        "valor_b = float(input(\"Informe o segundo valor: \\n\"))\n",
        "valor_c = float(input(\"Informe o terceiro valor: \\n\"))\n",
        "\n",
        "delta = (valor_b**2) - (4 *valor_a* valor_c)\n",
        "\n",
        "if delta == 0:\n",
        "  print(\"Impossivel Calcular\")\n",
        "\n",
        "else:\n",
        "  r_1 = (-valor_b + delta**(1/2)) / (2 * valor_a)\n",
        "  r_2 = (-valor_b - delta**(1/2)) / (2 * valor_a)\n",
        "print(\"Delta é \", delta)\n",
        "print(\"Raizes r1 e r2: \", r_1, \"e\", r_2)"
      ],
      "metadata": {
        "id": "1IFACMMcZeOG",
        "colab": {
          "base_uri": "https://localhost:8080/"
        },
        "outputId": "9dd741e3-d362-484f-e102-694b3067a456"
      },
      "execution_count": null,
      "outputs": [
        {
          "output_type": "stream",
          "name": "stdout",
          "text": [
            "Informe o primeiro valor: \n",
            "1\n",
            "Informe o segundo valor: \n",
            "5\n",
            "Informe o terceiro valor: \n",
            "-14\n",
            "Delta é  81.0\n",
            "Raizes r1 e r2:  2.0 e -7.0\n"
          ]
        }
      ]
    },
    {
      "cell_type": "markdown",
      "source": [
        "Leia 3 valores de ponto flutuante e efetue o cálculo das raízes da equação do segundo grau. Se\n",
        "não for possível calcular as raízes, mostre a mensagem correspondente “Impossível calcular”, caso\n",
        "haja uma divisão por 0 ou raiz de numero negativo. Ao final, mostre o delta e as raízes quando\n",
        "for possível."
      ],
      "metadata": {
        "id": "1VtDVUYbZf0L"
      }
    },
    {
      "cell_type": "code",
      "source": [
        "n = int(input(\"Informe um numero: \"))\n",
        "\n",
        "if n >= 0 and n <=25:\n",
        "    print(f\"numero {n} está entre 0 e 25\")\n",
        "elif n > 25 and n <= 50:\n",
        "    print(f\"numero {n} está entre 25 e 50\")\n",
        "elif n > 50 and n <=75:\n",
        "    print(f\"numero {n} está entre 50 e 75\")\n",
        "elif n > 75 and n <=100:\n",
        "    print(f\"numero {n} está entre 75 e 100\")\n",
        "else:\n",
        "    print(\"fora do intervalo\")\n"
      ],
      "metadata": {
        "id": "opFiJ4ZTZfB8",
        "colab": {
          "base_uri": "https://localhost:8080/"
        },
        "outputId": "be80397e-a5ce-4d30-fee4-b2509fbbb207"
      },
      "execution_count": null,
      "outputs": [
        {
          "output_type": "stream",
          "name": "stdout",
          "text": [
            "Informe um numero: 150\n",
            "150 fora do intervalo\n"
          ]
        }
      ]
    },
    {
      "cell_type": "markdown",
      "source": [
        "Você deve fazer um programa que leia um valor qualquer e apresente uma mensagem dizendo em\n",
        "qual dos seguintes intervalos ([0,25], (25,50], (50,75], (75,100]) este valor se encontra. Obviamente\n",
        "se o valor não estiver em nenhum destes intervalos, deverá ser impressa a mensagem “Fora de\n",
        "intervalo”."
      ],
      "metadata": {
        "id": "SNeHgQaZQUXN"
      }
    }
  ]
}