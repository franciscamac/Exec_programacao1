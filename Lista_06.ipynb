{
  "nbformat": 4,
  "nbformat_minor": 0,
  "metadata": {
    "colab": {
      "provenance": [],
      "authorship_tag": "ABX9TyN/ezKMdyEq0pBsko2ACHoJ",
      "include_colab_link": true
    },
    "kernelspec": {
      "name": "python3",
      "display_name": "Python 3"
    },
    "language_info": {
      "name": "python"
    }
  },
  "cells": [
    {
      "cell_type": "markdown",
      "metadata": {
        "id": "view-in-github",
        "colab_type": "text"
      },
      "source": [
        "<a href=\"https://colab.research.google.com/github/franciscamac/Exec_programacao1/blob/main/Lista_06.ipynb\" target=\"_parent\"><img src=\"https://colab.research.google.com/assets/colab-badge.svg\" alt=\"Open In Colab\"/></a>"
      ]
    },
    {
      "cell_type": "code",
      "execution_count": null,
      "metadata": {
        "id": "Yzct1qR29GbP",
        "colab": {
          "base_uri": "https://localhost:8080/"
        },
        "outputId": "a65ff4fe-82de-4b7d-c288-12041db1131e"
      },
      "outputs": [
        {
          "output_type": "stream",
          "name": "stdout",
          "text": [
            "Informe o primeiro valor: 2\n",
            "Informe o segundo valor: 3\n",
            "Valores não são divisiveis entre si!\n",
            "\n"
          ]
        }
      ],
      "source": [
        "valor_1 = int(input(\"Informe o primeiro valor: \"))\n",
        "valor_2 = int(input(\"Informe o segundo valor: \"))\n",
        "resto = valor_1 % valor_2\n",
        "if resto == 0:\n",
        "    print(\"Valores são divisiveis entre si! \\n\")\n",
        "else:\n",
        "    print(\"Valores não são divisiveis entre si!\\n\")"
      ]
    },
    {
      "cell_type": "markdown",
      "source": [
        "Crie um algoritmo que dado dois valores, indique se estes valores são divisíveis entre si.**negrito**"
      ],
      "metadata": {
        "id": "4aJ0Pnmv9zxC"
      }
    },
    {
      "cell_type": "code",
      "source": [
        "A = float(input(\"Informe o valor de A: \\n\"))\n",
        "B = float(input(\"Informe o valor de B: \\n\"))\n",
        "C = float(input(\"Informe o valor de C: \\n\"))\n",
        "\n",
        "if A + B > C:\n",
        "    print(\"A soma de A com B é maior que C! \\n\")\n",
        "elif A + B == C:\n",
        "    print(\"A soma de A com B é igual a C! \\n\")\n",
        "else:\n",
        "    print(\"C é maior que a soma de A com B! \\n\")"
      ],
      "metadata": {
        "id": "oOwztUNv9ecV"
      },
      "execution_count": null,
      "outputs": []
    },
    {
      "cell_type": "markdown",
      "source": [
        "Faça um algoritmo que leia os valores A, B e C. Mostre uma mensagem que informe se a soma\n",
        "de A com B é menor, maior ou igual a C."
      ],
      "metadata": {
        "id": "z0UX6q7O-F1-"
      }
    },
    {
      "cell_type": "code",
      "source": [
        "Quant_de_diaria = int(input(\"Informe a quantidade de diarias: \\n\"))\n",
        "diaria = 60\n",
        "if Quant_de_diaria > 15:\n",
        "    valor = diaria * 5.50\n",
        "    print(\"O valor total da diaria é \", valor)\n",
        "elif Quant_de_diaria == 15:\n",
        "    valor = diaria * 6.00\n",
        "    print(\"O valor total da diaria é \", valor)\n",
        "elif Quant_de_diaria < 15:\n",
        "    valor = diaria * 8.00\n",
        "    print(\"O valor total da diaria é \", valor)"
      ],
      "metadata": {
        "id": "WurFOWdC9hj0",
        "colab": {
          "base_uri": "https://localhost:8080/"
        },
        "outputId": "b0ba0a2e-e6db-4dc4-f9bc-962bb1702424"
      },
      "execution_count": null,
      "outputs": [
        {
          "output_type": "stream",
          "name": "stdout",
          "text": [
            "Informe a quantidade de diarias: \n",
            "6\n",
            "O valor total da diaria é  480.0\n"
          ]
        }
      ]
    },
    {
      "cell_type": "markdown",
      "source": [
        "Um hotel cobra R$ 60.00 a diária e mais uma taxa de serviços. A taxa de serviços é de:\n",
        "• R$ 5.50 por diária, se o número de diárias for maior que 15;\n",
        "• R$ 6.00 por diária, se o número de diárias for igual a 15;\n",
        "• R$ 8.00 por diária, se o número de diárias for menor que 15.\n",
        "Construa um algoritmo que, a partir da quantidade de diárias, mostre o total da conta de um\n",
        "cliente."
      ],
      "metadata": {
        "id": "Vm7LK4F4-MC6"
      }
    },
    {
      "cell_type": "code",
      "source": [
        "\n",
        "print(\":::::::BEM-VINDO AO BANCO MAC::::::::\")\n",
        "saldo = float(input(\"Informe o seu saldo: \\n\"))\n",
        "menu = '''\n",
        "[d]\n",
        "[r]\n",
        "\n",
        "==> '''\n",
        "opcao = input(menu)\n",
        "\n",
        "if opcao == \"d\":\n",
        "    print(\"::::::::::::::::::Deposito:::::::::::::::::\")\n",
        "    valor = float(input(\"Informe o valor do deposito: \\n\"))\n",
        "    valor_f = valor+saldo\n",
        "elif opcao == \"r\":\n",
        "    print(\"::::::::::::::::::Retirada:::::::::::::::::::\")\n",
        "    valor = float(input(\"Informe o valor de retirada: \\n\"))\n",
        "\n",
        "    if saldo < valor:\n",
        "        print(\":::::::SALDO INSUFICIENTE:::::::: \\n\")\n",
        "    else:\n",
        "        valor_f = saldo - valor\n",
        "    print(\"O seu saldo é de \", valor_f)\n"
      ],
      "metadata": {
        "id": "4otA8ar49lGF",
        "colab": {
          "base_uri": "https://localhost:8080/"
        },
        "outputId": "4e479a63-b355-4cba-fbfe-e6bfe0dcfb09"
      },
      "execution_count": null,
      "outputs": [
        {
          "output_type": "stream",
          "name": "stdout",
          "text": [
            ":::::::BEM-VINDO AO BANCO MAC::::::::\n",
            "Informe o seu saldo: \n",
            "300\n",
            "\n",
            "[d]\n",
            "[r]\n",
            "\n",
            "==> r\n",
            "::::::::::::::::::Retirada:::::::::::::::::::\n",
            "Informe o valor de retirada: \n",
            "250\n",
            "O seu saldo é de  50.0\n"
          ]
        }
      ]
    },
    {
      "cell_type": "markdown",
      "source": [
        "Crie um sistema Bancário Simples, onde o usuário deve informar qual a operação deseja realizar\n",
        "(depósito ou retirada). O programa deve iniciar perguntando o saldo do cliente, depois disso,\n",
        "deve apresentar um menu de opções (Depósito ou retirada). Ao escolher a opção, deve aparecer\n",
        "para o usuário solicitando o valor. No final o sistema deve mostrar o saldo do Cliente."
      ],
      "metadata": {
        "id": "0s1ts2fC-P47"
      }
    },
    {
      "cell_type": "code",
      "source": [
        "print(\":::::OPERAÇÕES MATEMATICAS::::::\")\n",
        "\n",
        "v1 = float(input(\"Informe um valor: \"))\n",
        "v2 = float(input(\"Informe outro valor: \"))\n",
        "\n",
        "menu = '''\n",
        "[a] - Adção\n",
        "[s] - Subtração\n",
        "[m] - Multiplicação\n",
        "[d] - Divisão\n",
        "\n",
        "==>'''\n",
        "\n",
        "opcao = input(menu)\n",
        "if opcao == \"a\":\n",
        "    soma = v1+v2\n",
        "    print(\"::::::::::::::ADIÇÃO::::::::::::::\")\n",
        "    print(\"O valor da adição é \", soma)\n",
        "\n",
        "elif opcao == \"s\":\n",
        "    sub = v1-v2\n",
        "    print(\"::::::::::::::SUBTRAÇÂO:::::::::::::\")\n",
        "    print(\"O valor da subtração é \", sub)\n",
        "\n",
        "elif opcao == \"m\":\n",
        "    mult = v1*v2\n",
        "    print(\"::::::::::::::MULTIPLICAÇÃO:::::::::::::\")\n",
        "    print(\"O valor da multiplicação é \", mult)\n",
        "\n",
        "elif opcao == \"d\":\n",
        "    div = v1/v2\n",
        "    if v2 == 0:\n",
        "        print(\"O valor informado é invalido! \")\n",
        "    else:\n",
        "        print(\"::::::::::::::DIVISÃO:::::::::::::\")\n",
        "        print(\"O valor da divisão é \", div)\n",
        "print(\"::::::::FIM DA EXECUÇÃO:::::::::::\")\n",
        "\n"
      ],
      "metadata": {
        "colab": {
          "base_uri": "https://localhost:8080/"
        },
        "id": "MiOV6yZb9mNV",
        "outputId": "89e6d23c-8c31-409e-d4af-3e847bb94a75"
      },
      "execution_count": null,
      "outputs": [
        {
          "output_type": "stream",
          "name": "stdout",
          "text": [
            ":::::OPERAÇÕES MATEMATICAS::::::\n",
            "Informe um valor: 4\n",
            "Informe outro valor: 2\n",
            "\n",
            "[a] - Adção\n",
            "[s] - Subtração\n",
            "[m] - Multiplicação\n",
            "[d] - Divisão\n",
            "\n",
            "==>s\n",
            "::::::::::::::SUBTRAÇÂO:::::::::::::\n",
            "O valor da subtração é  2.0\n",
            "::::::::FIM DA EXECUÇÃO:::::::::::\n"
          ]
        }
      ]
    },
    {
      "cell_type": "code",
      "source": [],
      "metadata": {
        "id": "23EAyS9av3bt"
      },
      "execution_count": null,
      "outputs": []
    }
  ]
}