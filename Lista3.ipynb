{
  "nbformat": 4,
  "nbformat_minor": 0,
  "metadata": {
    "colab": {
      "provenance": [],
      "authorship_tag": "ABX9TyMyDDffZP38gvpzFeOffGVn",
      "include_colab_link": true
    },
    "kernelspec": {
      "name": "python3",
      "display_name": "Python 3"
    },
    "language_info": {
      "name": "python"
    }
  },
  "cells": [
    {
      "cell_type": "markdown",
      "metadata": {
        "id": "view-in-github",
        "colab_type": "text"
      },
      "source": [
        "<a href=\"https://colab.research.google.com/github/franciscamac/Exec_programacao1/blob/main/Lista3.ipynb\" target=\"_parent\"><img src=\"https://colab.research.google.com/assets/colab-badge.svg\" alt=\"Open In Colab\"/></a>"
      ]
    },
    {
      "cell_type": "code",
      "execution_count": null,
      "metadata": {
        "colab": {
          "base_uri": "https://localhost:8080/"
        },
        "id": "TdX9rxiKtZFf",
        "outputId": "8eaa2d0b-fc6a-4a8d-f46e-026521dffcb0"
      },
      "outputs": [
        {
          "output_type": "stream",
          "name": "stdout",
          "text": [
            "Informe o primeiro valor da P.A: 2\n",
            "Informe a razão da P.A: 2\n",
            "2\n",
            "4\n",
            "6\n",
            "8\n",
            "10\n",
            "12\n",
            "14\n",
            "16\n",
            "18\n",
            "20\n"
          ]
        }
      ],
      "source": [
        "v1 = int(input(\"Informe o primeiro valor da P.A: \"))\n",
        "r = int(input(\"Informe a razão da P.A: \"))\n",
        "decimo_termo = v1+ (10-1) * r\n",
        "for i in range(v1, decimo_termo + r, r):\n",
        "  p_a = v1+ r\n",
        "  print(i)\n"
      ]
    },
    {
      "cell_type": "code",
      "source": [
        "v1 = int(input(\"Informe o primeiro valor da P.A: \"))\n",
        "r = int(input(\"Informe a razão da P.A: \"))\n",
        "for i in range(10):\n",
        "  print(v1)\n",
        "  v1 = v1 + r\n"
      ],
      "metadata": {
        "colab": {
          "base_uri": "https://localhost:8080/"
        },
        "id": "piK6qc3n0MXz",
        "outputId": "23123e4b-1718-48cc-e871-dd2f633711b3"
      },
      "execution_count": null,
      "outputs": [
        {
          "output_type": "stream",
          "name": "stdout",
          "text": [
            "Informe o primeiro valor da P.A: 2\n",
            "Informe a razão da P.A: 2\n",
            "2\n",
            "4\n",
            "6\n",
            "8\n",
            "10\n",
            "12\n",
            "14\n",
            "16\n",
            "18\n",
            "20\n"
          ]
        }
      ]
    },
    {
      "cell_type": "code",
      "source": [
        "n = int(input(\"Informe o valor de n: \"))\n",
        "m = int(input(\"Informe o valor de m: \"))\n",
        "\n",
        "n = n+1\n",
        "m = m-1\n",
        "\n",
        "if"
      ],
      "metadata": {
        "id": "-ER6pr521CnZ",
        "colab": {
          "base_uri": "https://localhost:8080/"
        },
        "outputId": "483454e8-296d-429d-d0ac-77a607d77162"
      },
      "execution_count": null,
      "outputs": [
        {
          "output_type": "stream",
          "name": "stdout",
          "text": [
            "Informe o valor de n: 2\n",
            "Informe o valor de m: 20\n",
            "Numeros pares:  2\n",
            "Numeros pares:  4\n",
            "Numeros pares:  6\n",
            "Numeros pares:  8\n",
            "Numeros pares:  10\n",
            "Numeros pares:  12\n",
            "Numeros pares:  14\n",
            "Numeros pares:  16\n",
            "Numeros pares:  18\n",
            "Numeros impares:  2\n",
            "Numeros impares:  3\n",
            "Numeros impares:  4\n",
            "Numeros impares:  5\n",
            "Numeros impares:  6\n",
            "Numeros impares:  7\n",
            "Numeros impares:  8\n",
            "Numeros impares:  9\n",
            "Numeros impares:  10\n",
            "Numeros impares:  11\n",
            "Numeros impares:  12\n",
            "Numeros impares:  13\n",
            "Numeros impares:  14\n",
            "Numeros impares:  15\n",
            "Numeros impares:  16\n",
            "Numeros impares:  17\n",
            "Numeros impares:  18\n",
            "Numeros impares:  19\n"
          ]
        }
      ]
    }
  ]
}