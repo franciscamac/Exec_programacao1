{
  "nbformat": 4,
  "nbformat_minor": 0,
  "metadata": {
    "colab": {
      "provenance": [],
      "mount_file_id": "19226du2Jsyfuhgq40dBrF0tjbG6so25K",
      "authorship_tag": "ABX9TyNFd1Ya6d+41M4pCl33XnBX",
      "include_colab_link": true
    },
    "kernelspec": {
      "name": "python3",
      "display_name": "Python 3"
    },
    "language_info": {
      "name": "python"
    }
  },
  "cells": [
    {
      "cell_type": "markdown",
      "metadata": {
        "id": "view-in-github",
        "colab_type": "text"
      },
      "source": [
        "<a href=\"https://colab.research.google.com/github/franciscamac/Exec_programacao1/blob/main/lista1.ipynb\" target=\"_parent\"><img src=\"https://colab.research.google.com/assets/colab-badge.svg\" alt=\"Open In Colab\"/></a>"
      ]
    },
    {
      "cell_type": "code",
      "execution_count": null,
      "metadata": {
        "colab": {
          "base_uri": "https://localhost:8080/"
        },
        "id": "JmE04vrK2Gy5",
        "outputId": "f6e44cd8-dd67-4369-e8c2-a0104569576e"
      },
      "outputs": [
        {
          "output_type": "stream",
          "name": "stdout",
          "text": [
            "[ 1  2  3  4  5  6  7  8  9 10]\n",
            "[ 1 20  3  4  5  6  7  8  9 10]\n",
            "(10,)\n",
            "(4,)\n",
            "['JOÃO' 'MARIA' 'CARLOS' 'AMANDA']\n"
          ]
        }
      ],
      "source": [
        "#importando a biblioteca Numpy\n",
        "import numpy as np\n",
        "np.__version__\n",
        "\n",
        "\n",
        "#criar um array\n",
        "vetor1 = np.array([1,2,3,4,5,6,7,8,9,10,])\n",
        "\n",
        "print(vetor1)\n",
        "\n",
        "type(vetor1[0])\n",
        "#vetor soma\n",
        "vetor1.sum()\n",
        "\n",
        "#vetor de somas acumulativas\n",
        "vetor1.cumsum()\n",
        "\n",
        "\n",
        "#alterar valor de item\n",
        "vetor1[1] = 20\n",
        "print(vetor1)\n",
        "\n",
        " #quantidade de itens\n",
        "\n",
        "print(vetor1.shape)\n",
        "\n",
        "vetor2 = np.array([\"João\", \"Maria\", \"Carlos\", \"Amanda\"])\n",
        "\n",
        "print(vetor2.shape)\n",
        "\n",
        "print(np.char.upper(vetor2))"
      ]
    },
    {
      "cell_type": "code",
      "source": [],
      "metadata": {
        "id": "p-xaYOzS3ZL9"
      },
      "execution_count": null,
      "outputs": []
    },
    {
      "cell_type": "code",
      "source": [],
      "metadata": {
        "id": "leLwSBO73jkf"
      },
      "execution_count": null,
      "outputs": []
    },
    {
      "cell_type": "code",
      "source": [],
      "metadata": {
        "id": "0psVKwrb8lxR"
      },
      "execution_count": null,
      "outputs": []
    }
  ]
}